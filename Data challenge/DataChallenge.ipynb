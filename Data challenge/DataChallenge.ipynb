{
 "cells": [
  {
   "cell_type": "markdown",
   "metadata": {},
   "source": [
    "$\\textbf{Libraries}$"
   ]
  },
  {
   "cell_type": "code",
   "execution_count": 1,
   "metadata": {},
   "outputs": [],
   "source": [
    "import pandas as pd\n",
    "import matplotlib.pyplot as plt\n",
    "import numpy as np\n",
    "import pickle as pkl\n",
    "from scipy import optimize\n",
    "from scipy.linalg import cho_factor, cho_solve\n",
    "import matplotlib.pyplot as plt\n",
    "%matplotlib inline"
   ]
  },
  {
   "cell_type": "markdown",
   "metadata": {},
   "source": [
    "$\\textbf{Importing Dataset}$"
   ]
  },
  {
   "cell_type": "code",
   "execution_count": 2,
   "metadata": {},
   "outputs": [],
   "source": [
    "# Testing Data points\n",
    "Xte0 = pd.read_csv('Xte0.csv',index_col=\"Id\")\n",
    "Xte1 = pd.read_csv('Xte1.csv',index_col=\"Id\")\n",
    "Xte2 = pd.read_csv('Xte2.csv',index_col=\"Id\")\n",
    "Xte = pd.concat([Xte0,Xte1,Xte2])"
   ]
  },
  {
   "cell_type": "code",
   "execution_count": 3,
   "metadata": {},
   "outputs": [],
   "source": [
    "# Training Data points\n",
    "Xtr0 = pd.read_csv('Xtr0.csv',index_col=\"Id\")\n",
    "Xtr1 = pd.read_csv('Xtr1.csv',index_col=\"Id\")\n",
    "Xtr2 = pd.read_csv('Xtr2.csv',index_col=\"Id\")\n",
    "Xtr = pd.concat([Xtr0,Xtr1,Xtr2])\n",
    "\n",
    "# Training labels\n",
    "Ytr0 = pd.read_csv('Ytr0.csv',index_col=\"Id\")\n",
    "Ytr1 = pd.read_csv('Ytr1.csv',index_col=\"Id\")\n",
    "Ytr2 = pd.read_csv('Ytr2.csv',index_col=\"Id\")\n",
    "Ytr = pd.concat([Ytr0,Ytr1,Ytr2])"
   ]
  },
  {
   "cell_type": "code",
   "execution_count": 4,
   "metadata": {},
   "outputs": [],
   "source": [
    "Xtr0_np=Xtr0.to_numpy().reshape(-1)\n",
    "Ytr0_np=Ytr0.to_numpy().reshape(-1)\n",
    "Xte0_np=Xte0.to_numpy().reshape(-1)\n",
    "\n",
    "Xtr1_np=Xtr1.to_numpy().reshape(-1)\n",
    "Ytr1_np=Ytr1.to_numpy().reshape(-1)\n",
    "Xte1_np=Xte1.to_numpy().reshape(-1)\n",
    "\n",
    "Xtr2_np=Xtr2.to_numpy().reshape(-1)\n",
    "Ytr2_np=Ytr2.to_numpy().reshape(-1)\n",
    "Xte2_np=Xte2.to_numpy().reshape(-1)"
   ]
  },
  {
   "cell_type": "code",
   "execution_count": 6,
   "metadata": {},
   "outputs": [
    {
     "data": {
      "text/plain": [
       "[]"
      ]
     },
     "execution_count": 6,
     "metadata": {},
     "output_type": "execute_result"
    },
    {
     "data": {
      "image/png": "[encoded data removed]",
      "text/plain": [
       "<Figure size 640x480 with 1 Axes>"
      ]
     },
     "metadata": {},
     "output_type": "display_data"
    }
   ],
   "source": [
    "def seq_length(seq):\n",
    "    return len(seq)\n",
    "\n",
    "seq_len=Xtr['seq'].apply(seq_length)\n",
    "seq_len.value_counts().plot(kind='bar')\n",
    "plt.xticks(rotation=0)\n",
    "plt.plot()"
   ]
  },
  {
   "cell_type": "markdown",
   "metadata": {},
   "source": [
    "$\\textbf{Kernels}$"
   ]
  },
  {
   "cell_type": "markdown",
   "metadata": {},
   "source": [
    "$\\textit{Spectrum Kernel}$"
   ]
  },
  {
   "cell_type": "code",
   "execution_count": 7,
   "metadata": {},
   "outputs": [],
   "source": [
    "import numpy as np\n",
    "from collections import defaultdict\n",
    "\n",
    "class DNATrieNode:\n",
    "    \"\"\"A node in the DNA sequence trie.\"\"\"\n",
    "    \n",
    "    def __init__(self):\n",
    "        # Each node has 4 children, one for each DNA base (A, C, G, T)\n",
    "        # Using a dictionary for clarity, but could use array for better performance\n",
    "        self.children = {'A': None, 'C': None, 'G': None, 'T': None}\n",
    "        # Sequences that contain the k-mer represented by the path to this node\n",
    "        self.sequence_counts = defaultdict(int)\n",
    "        \n",
    "\n",
    "class SpectrumKernel:\n",
    "    \"\"\"\n",
    "    Implementation of the spectrum kernel using a trie data structure for efficient\n",
    "    k-mer counting in DNA sequences.\n",
    "    \"\"\"\n",
    "    \n",
    "    def __init__(self,k=6):\n",
    "        \"\"\"\n",
    "        Initialize the spectrum kernel with a given k-mer length.\n",
    "        \n",
    "        Parameters:\n",
    "        -----------\n",
    "        k : int\n",
    "            Length of k-mers to consider\n",
    "        \"\"\"\n",
    "        self.k = k\n",
    "        \n",
    "    def _insert_kmer(self,kmer,seq_idx):\n",
    "        \"\"\"\n",
    "        Insert a k-mer into the trie and associate it with a sequence index.\n",
    "        \n",
    "        Parameters:\n",
    "        -----------\n",
    "        kmer : str\n",
    "            The k-mer to insert\n",
    "        seq_idx : int\n",
    "            Index of the sequence containing this k-mer\n",
    "        \"\"\"\n",
    "        node = self.root\n",
    "        \n",
    "        # Traverse the trie, creating nodes as needed\n",
    "        for base in kmer:\n",
    "            if base not in 'ACGT':\n",
    "                return  # Skip k-mers with non-DNA characters\n",
    "                \n",
    "            if node.children[base] is None:\n",
    "                node.children[base] = DNATrieNode()\n",
    "            \n",
    "            node = node.children[base]\n",
    "        \n",
    "        # Increment the count for this sequence at the terminal node\n",
    "        node.sequence_counts[seq_idx] += 1\n",
    "        \n",
    "    def add_sequences(self, sequences):\n",
    "        \"\"\"\n",
    "        Add sequences to the trie by inserting the k-mers of each one. \n",
    "        \n",
    "        Parameters:\n",
    "        -----------\n",
    "        sequences : str\n",
    "            DNA sequences to add\n",
    "        \n",
    "        Returns:\n",
    "        --------\n",
    "        int\n",
    "            Index of the added sequences\n",
    "        \"\"\"\n",
    "        for seq in range(len(sequences)):\n",
    "            sequence = sequences[seq]\n",
    "            seq_idx = len(self.sequences)\n",
    "            self.sequences.append(sequence)\n",
    "            \n",
    "            # Insert all k-mers from the sequence\n",
    "            for i in range(len(sequence) - self.k + 1):\n",
    "                kmer = sequence[i:i+self.k]\n",
    "                self._insert_kmer(kmer, seq_idx)\n",
    "            \n",
    "        return seq_idx\n",
    "    \n",
    "    def compute_kernel_matrix(self,X,Y):\n",
    "        \"\"\"\n",
    "        Compute the kernel matrix for all added sequences.\n",
    "        \n",
    "        Returns:\n",
    "        --------\n",
    "        numpy.ndarray\n",
    "            Kernel matrix where K[i,j] is the similarity between sequences i and j\n",
    "        \"\"\"\n",
    "        self.root = DNATrieNode()\n",
    "        self.sequences = []\n",
    "\n",
    "        self.add_sequences(X)\n",
    "        self.add_sequences(Y)\n",
    "\n",
    "        n1 = len(X)\n",
    "        n2 = len(Y)\n",
    "        K = np.zeros([n1, n2])\n",
    "\n",
    "        # Traverse the trie and update the kernel matrix based on shared k-mers\n",
    "        def traverse_and_compute(node):\n",
    "            if not any(node.children.values()):\n",
    "                # We're at a leaf, calculate contribution to kernel matrix\n",
    "                counts = node.sequence_counts\n",
    "                for i in counts :\n",
    "                    for j in counts:\n",
    "                        if i<n1 and j>=n1:\n",
    "                            K[i, j-n1] += counts[i] * counts[j]\n",
    "                return\n",
    "            \n",
    "            # Recursive traversal\n",
    "            for base, child in node.children.items():\n",
    "                if child:\n",
    "                    traverse_and_compute(child)\n",
    "        \n",
    "        traverse_and_compute(self.root)\n",
    "        return K"
   ]
  },
  {
   "cell_type": "markdown",
   "metadata": {},
   "source": [
    "$\\textit{Substring Kernels}$"
   ]
  },
  {
   "cell_type": "code",
   "execution_count": 8,
   "metadata": {},
   "outputs": [],
   "source": [
    "def B(k,x1,x2,lmd=0.5):\n",
    "    n = len(x1)\n",
    "    dp1 = np.ones([1,n,n])\n",
    "    dp2 = np.zeros([k,n,n])\n",
    "    dp = np.concatenate([dp1,dp2],axis=0)\n",
    "    \n",
    "    for k_val in range(1,k+1):\n",
    "        if k_val == 1:\n",
    "            dp[k_val,0,0] = (x1[0]==x2[0])*(lmd**2)\n",
    "            for idx in range(1,n):\n",
    "                dp[k_val,idx,0] = (lmd**2) * dp[k_val,idx-1,0] + (x2[0]==x1[idx]) * (lmd**2)\n",
    "                dp[k_val,0,idx] = (lmd**2) * dp[k_val,idx-1,0] + (x1[0]==x2[idx]) * (lmd**2)\n",
    "        for i in range(1,n):\n",
    "            for j in range(1,n):\n",
    "                dp[k_val][i][j] = (lmd * dp[k_val][i-1][j] +\n",
    "                                   lmd * dp[k_val][i][j-1] -\n",
    "                                   lmd**2 * dp[k_val][i-1][j-1] +\n",
    "                                   (x1[i-1] == x2[j-1]) * lmd**2 * dp[k_val-1][i-1][j-1])\n",
    "    \n",
    "    return dp\n",
    "\n",
    "def SSKernel(k,x1,x2,lmd=0.5):\n",
    "    n = len(x1)\n",
    "    B_k = B(k-1, x1[:-1], x2[:-1], lmd)\n",
    "    K = 0 \n",
    "    for idx_x1 in range(k,n):\n",
    "        for idx_x2 in range(k,n):\n",
    "            K += (x2[idx_x2]==x1[idx_x1]) * B_k[k-1,idx_x1-1,idx_x2-1]\n",
    "    return K \n",
    "\n",
    "def SSKernel_Matrix(k,X,lmd=0.5):\n",
    "    K = np.zeros([len(X),len(X)])\n",
    "    for i in range(len(X)):\n",
    "        for j in range(i,len(X)):\n",
    "            K[i,j]=SSKernel(k,X[i],X[j],lmd)\n",
    "            K[j,i]=K[i,j]\n",
    "    return K "
   ]
  },
  {
   "cell_type": "markdown",
   "metadata": {},
   "source": [
    "$\\textbf{Kernel Methods}$"
   ]
  },
  {
   "cell_type": "markdown",
   "metadata": {},
   "source": [
    "$\\textit{Kernel Ridge Regression}$"
   ]
  },
  {
   "cell_type": "code",
   "execution_count": 25,
   "metadata": {},
   "outputs": [],
   "source": [
    "import numpy as np\n",
    "from sklearn.base import BaseEstimator, RegressorMixin\n",
    "from sklearn.metrics import mean_squared_error\n",
    "from sklearn.model_selection import train_test_split\n",
    "\n",
    "class KernelRidgeRegression(BaseEstimator, RegressorMixin):\n",
    "    \"\"\"\n",
    "    Custom implementation of Kernel Ridge Regression\n",
    "    \n",
    "    Parameters:\n",
    "    -----------\n",
    "    kernel_fn : callable\n",
    "        The kernel function to use. Should take two arrays X and Y and return the kernel matrix.\n",
    "    alpha : float, default=1.0\n",
    "        Regularization strength. Larger values specify stronger regularization.\n",
    "    \"\"\"\n",
    "    \n",
    "    def __init__(self, kernel_fn, alpha=1.0):\n",
    "        self.kernel_fn = kernel_fn\n",
    "        self.alpha = alpha\n",
    "        self.X_train = None\n",
    "        self.dual_coef_ = None\n",
    "        \n",
    "    def fit(self, X, y):\n",
    "        \"\"\"\n",
    "        Fit the kernel ridge regression model.\n",
    "        \n",
    "        Parameters:\n",
    "        -----------\n",
    "        X : array-like of shape (n_samples, n_features)\n",
    "            Training data\n",
    "        y : array-like of shape (n_samples,)\n",
    "            Target values\n",
    "            \n",
    "        Returns:\n",
    "        --------\n",
    "        self : returns an instance of self.\n",
    "        \"\"\"\n",
    "        # Store training data\n",
    "        self.X_train = X\n",
    "        \n",
    "        # Compute the kernel matrix\n",
    "        K = self.kernel_fn(X, X)\n",
    "        \n",
    "        # Add regularization to the diagonal\n",
    "        K_reg = K + self.alpha * np.eye(K.shape[0])\n",
    "        \n",
    "        # Solve for dual coefficients: (K + αI)α = y\n",
    "        self.dual_coef_ = np.linalg.solve(K_reg, y)\n",
    "        \n",
    "        return self\n",
    "    \n",
    "    def predict(self, X):\n",
    "        \"\"\"\n",
    "        Predict using the kernel ridge model.\n",
    "        \n",
    "        Parameters:\n",
    "        -----------\n",
    "        X : array-like of shape (n_samples, n_features)\n",
    "            Samples\n",
    "            \n",
    "        Returns:\n",
    "        --------\n",
    "        y_pred : ndarray of shape (n_samples,)\n",
    "            Predicted values\n",
    "        \"\"\"\n",
    "        # Compute kernel between test points and training points\n",
    "        K_test = self.kernel_fn(X, self.X_train)\n",
    "        \n",
    "        # Make predictions\n",
    "        y_pred = K_test.dot(self.dual_coef_)\n",
    "        \n",
    "        return (y_pred>0) * 1"
   ]
  },
  {
   "cell_type": "markdown",
   "metadata": {},
   "source": [
    "$\\textit{Support Vector Classifier}$"
   ]
  },
  {
   "cell_type": "code",
   "execution_count": 24,
   "metadata": {},
   "outputs": [],
   "source": [
    "class KernelSVC:\n",
    "    \n",
    "    def __init__(self, C, kernel, epsilon = 1e-3):\n",
    "        self.type = 'non-linear'\n",
    "        self.C = C                               \n",
    "        self.kernel = kernel        \n",
    "        self.alpha = None\n",
    "        self.support = None # support vectors\n",
    "        self.epsilon = epsilon\n",
    "        self.norm_f = None\n",
    "       \n",
    "    \n",
    "    def fit(self, X, y):\n",
    "       #### You might define here any variable needed for the rest of the code\n",
    "        N = len(y)\n",
    "        K = self.kernel(X,X) # the gram matrix \n",
    "        self.X = X\n",
    "        self.y = y\n",
    "        # Lagrange dual problem\n",
    "        def loss(alpha):\n",
    "            s_1 = np.sum(alpha)\n",
    "\n",
    "            weighted_labels = y*alpha\n",
    "            s_2=np.dot(weighted_labels.T,np.dot(K,weighted_labels))\n",
    "\n",
    "            return  s_1-(1/2)*s_2\n",
    "\n",
    "        # Partial derivate of Ld on alpha\n",
    "        def grad_loss(alpha):\n",
    "            weighted_labels = y*alpha\n",
    "            return 1 - y * np.dot(K,weighted_labels)\n",
    "\n",
    "        # Constraints on alpha of the shape :\n",
    "        # -  d - C*alpha  = 0\n",
    "        # -  b - A*alpha >= 0\n",
    "\n",
    "        fun_eq = lambda alpha:  np.dot(y,alpha) # '''----------------function defining the equality constraint------------------'''        \n",
    "        jac_eq = lambda alpha:  y   #'''----------------jacobian wrt alpha of the  equality constraint------------------'''\n",
    "        fun_ineq = lambda alpha:  np.hstack([self.C-alpha,alpha]) # '''---------------function defining the inequality constraint-------------------'''     \n",
    "        jac_ineq = lambda alpha:  np.vstack([-np.eye(N),np.eye(N)]) # '''---------------jacobian wrt alpha of the  inequality constraint-------------------'''\n",
    "        \n",
    "        constraints = ({'type': 'eq',  'fun': fun_eq, 'jac': jac_eq},\n",
    "                       {'type': 'ineq', \n",
    "                        'fun': fun_ineq , \n",
    "                        'jac': jac_ineq})\n",
    "\n",
    "        optRes = optimize.minimize(fun=lambda alpha: loss(alpha),\n",
    "                                   x0=np.ones(N), \n",
    "                                   method='SLSQP', \n",
    "                                   jac=lambda alpha: grad_loss(alpha), \n",
    "                                   constraints=constraints)\n",
    "        self.alpha = optRes.x\n",
    "\n",
    "        ## Assign the required attributes\n",
    "\n",
    "        #'''------------------- A matrix with each row corresponding to support vectors ------------------'''\n",
    "\n",
    "        self.support =  X[self.alpha>0] \n",
    "\n",
    "        #''' -----------------offset of the classifier------------------ '''\n",
    "\n",
    "        ind1 = self.alpha>0\n",
    "        ind2 = self.alpha<self.C\n",
    "        ind_verif = ind1*ind2 # datapoints having their respective 0<alpha_i<C\n",
    "        indices = np.arange(N)[ind_verif]\n",
    "        f_opt = lambda i: np.dot(K[i],y*self.alpha)\n",
    "\n",
    "        self.b = np.mean(1/y[indices]-f_opt(indices)) \n",
    "\n",
    "        # '''------------------------RKHS norm of the function f ------------------------------'''\n",
    "\n",
    "        weighted_labels = y*self.alpha\n",
    "\n",
    "        self.norm_f = np.dot(weighted_labels.T,np.dot(K,weighted_labels)) \n",
    "\n",
    "    ### Implementation of the separting function $f$ \n",
    "    def separating_function(self,x):\n",
    "        # Input : matrix x of shape N data points times d dimension\n",
    "        # Output: vector of size N\n",
    "        K_pred = self.kernel(self.X,x).T\n",
    "        return np.dot(K_pred,self.alpha*self.y)\n",
    "    \n",
    "    \n",
    "    def predict(self, X):\n",
    "        \"\"\" Predict y values in {0, 1} \"\"\"\n",
    "        d = self.separating_function(X)\n",
    "        return (d+self.b> 0) * 1"
   ]
  },
  {
   "cell_type": "markdown",
   "metadata": {},
   "source": [
    "$\\textbf{Training}$"
   ]
  },
  {
   "cell_type": "code",
   "execution_count": 43,
   "metadata": {},
   "outputs": [],
   "source": [
    "kernel = SpectrumKernel().compute_kernel_matrix\n",
    "model = KernelRidgeRegression(kernel_fn=kernel,alpha=0.1)"
   ]
  },
  {
   "cell_type": "code",
   "execution_count": 44,
   "metadata": {},
   "outputs": [],
   "source": [
    "model.fit(Xtr0_np,Ytr0_np)\n",
    "Y_pred0=model.predict(Xte0_np) "
   ]
  },
  {
   "cell_type": "code",
   "execution_count": 45,
   "metadata": {},
   "outputs": [],
   "source": [
    "model.fit(Xtr1_np,Ytr1_np)\n",
    "Y_pred1=model.predict(Xte1_np) "
   ]
  },
  {
   "cell_type": "code",
   "execution_count": 46,
   "metadata": {},
   "outputs": [],
   "source": [
    "model.fit(Xtr2_np,Ytr2_np)\n",
    "Y_pred2=model.predict(Xte2_np) "
   ]
  },
  {
   "cell_type": "code",
   "execution_count": 32,
   "metadata": {},
   "outputs": [
    {
     "data": {
      "text/plain": [
       "0.632"
      ]
     },
     "execution_count": 32,
     "metadata": {},
     "output_type": "execute_result"
    }
   ],
   "source": [
    "np.sum(Y_pred0==Ytr0_np)/len(Ytr0_np)"
   ]
  },
  {
   "cell_type": "markdown",
   "metadata": {},
   "source": [
    "$\\textbf{Submission}$"
   ]
  },
  {
   "cell_type": "code",
   "execution_count": 47,
   "metadata": {},
   "outputs": [],
   "source": [
    "Y_pred = np.concatenate([Y_pred0,Y_pred1,Y_pred2])\n",
    "submission = pd.DataFrame({\"Id\": range(len(Y_pred)), \"Bound\": Y_pred})\n",
    "submission.to_csv(\"submission_KRR_alpha=0.1.csv\",header=True,index=False)"
   ]
  }
 ],
 "metadata": {
  "kernelspec": {
   "display_name": "nvedl",
   "language": "python",
   "name": "python3"
  },
  "language_info": {
   "codemirror_mode": {
    "name": "ipython",
    "version": 3
   },
   "file_extension": ".py",
   "mimetype": "text/x-python",
   "name": "python",
   "nbconvert_exporter": "python",
   "pygments_lexer": "ipython3",
   "version": "3.7.12"
  }
 },
 "nbformat": 4,
 "nbformat_minor": 2
}
